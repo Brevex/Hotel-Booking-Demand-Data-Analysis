{
  "nbformat": 4,
  "nbformat_minor": 0,
  "metadata": {
    "colab": {
      "provenance": [],
      "include_colab_link": true
    },
    "kernelspec": {
      "name": "python3",
      "display_name": "Python 3"
    },
    "language_info": {
      "name": "python"
    }
  },
  "cells": [
    {
      "cell_type": "markdown",
      "metadata": {
        "id": "view-in-github",
        "colab_type": "text"
      },
      "source": [
        "<a href=\"https://colab.research.google.com/github/Brevex/Hotel-Booking-Demand-Data-Analysis/blob/main/Hotel_Booking_Demand_Data_Analysis.ipynb\" target=\"_parent\"><img src=\"https://colab.research.google.com/assets/colab-badge.svg\" alt=\"Open In Colab\"/></a>"
      ]
    },
    {
      "cell_type": "markdown",
      "source": [
        "# **Analysis period between July/2015 and August/2017**\n",
        "\n",
        "The data is originally from the article Hotel Booking Demand Datasets, written by Nuno Antonio, Ana Almeida and Luis Nunes for Data in Brief, Volume 22, February 2019. This dataset contains reservation information for a city hotel and a resort hotel and includes information such as when the reservation was made, length of stay, number of adults, children and/or infants, and number of available parking spaces, among other things .\n"
      ],
      "metadata": {
        "id": "WYjn6BwbwoIV"
      }
    },
    {
      "cell_type": "markdown",
      "source": [
        "# **REQUIRED LIBRARIES**"
      ],
      "metadata": {
        "id": "IKaJyjkBmJg1"
      }
    },
    {
      "cell_type": "code",
      "execution_count": 46,
      "metadata": {
        "id": "mvHPK8VjYLjm"
      },
      "outputs": [],
      "source": [
        "import pandas as pd\n",
        "import numpy as np\n",
        "import seaborn as sns"
      ]
    },
    {
      "cell_type": "code",
      "source": [
        "# Sort by month instead of alphabetical order\n",
        "\n",
        "!pip install -q sort-dataframeby-monthorweek\n",
        "!pip install -q sorted-months-weekdays"
      ],
      "metadata": {
        "id": "zfEcAFNfjlMc"
      },
      "execution_count": 47,
      "outputs": []
    },
    {
      "cell_type": "code",
      "source": [
        "from matplotlib import pyplot as plt\n",
        "%matplotlib inline\n",
        "\n",
        "import sort_dataframeby_monthorweek as sd"
      ],
      "metadata": {
        "id": "3l41GVonjqHj"
      },
      "execution_count": 48,
      "outputs": []
    },
    {
      "cell_type": "markdown",
      "source": [
        "# **IMPORTING FILE**"
      ],
      "metadata": {
        "id": "M5TvhzwWmy2f"
      }
    },
    {
      "cell_type": "code",
      "source": [
        "!gdown https://raw.githubusercontent.com/Brevex/Hotel-Booking-Demand-Data-Analysis/main/hotel_data.csv"
      ],
      "metadata": {
        "id": "IWa8nOCjYm1M"
      },
      "execution_count": null,
      "outputs": []
    },
    {
      "cell_type": "code",
      "source": [
        "# Defining initial data frame (without data processing)\n",
        "\n",
        "df = pd.read_csv('/content/hotel_data.csv')\n",
        "df"
      ],
      "metadata": {
        "id": "uqODEutAa676"
      },
      "execution_count": null,
      "outputs": []
    },
    {
      "cell_type": "markdown",
      "source": [
        "# **DATA ANALYSIS**"
      ],
      "metadata": {
        "id": "bBU9AVWfmIa7"
      }
    },
    {
      "cell_type": "code",
      "source": [
        "# Database Body\n",
        "\n",
        "df.shape"
      ],
      "metadata": {
        "id": "EdOz8SQn7f3T"
      },
      "execution_count": null,
      "outputs": []
    },
    {
      "cell_type": "code",
      "source": [
        "# Listing the Database columns\n",
        "\n",
        "columnIndex = 1\n",
        "\n",
        "for i in df.columns:\n",
        "\n",
        "    print(columnIndex, \":\", i)\n",
        "    columnIndex += 1"
      ],
      "metadata": {
        "id": "Znl_lCdTjxrt"
      },
      "execution_count": null,
      "outputs": []
    },
    {
      "cell_type": "code",
      "source": [
        "# Analyzing the data type of each column in the Database\n",
        "\n",
        "df.info()"
      ],
      "metadata": {
        "id": "fXbBJr77rAna"
      },
      "execution_count": null,
      "outputs": []
    },
    {
      "cell_type": "code",
      "source": [
        "# Checking the percentage of missing values\n",
        "\n",
        "for analyzedValue in df.columns:\n",
        "    if df[analyzedValue].isnull().any():\n",
        "\n",
        "      missingValuesPercentual = (df[analyzedValue].isnull().sum() * 100) / df.shape[0]\n",
        "      print(f\"{analyzedValue}: {missingValuesPercentual:.3f}% of values are null.\")"
      ],
      "metadata": {
        "id": "qRxdi757YxlK"
      },
      "execution_count": null,
      "outputs": []
    },
    {
      "cell_type": "markdown",
      "source": [
        "# **DATA CLEANING**"
      ],
      "metadata": {
        "id": "rWoJ2obeslOg"
      }
    },
    {
      "cell_type": "code",
      "source": [
        "# Remove the [agent, company] Columns\n",
        "\n",
        "df.drop([\"agent\", \"company\"], axis=1, inplace=True)"
      ],
      "metadata": {
        "id": "U7llKYAUWYrE"
      },
      "execution_count": null,
      "outputs": []
    },
    {
      "cell_type": "code",
      "source": [
        "# Fields that contain NULL values and quantity\n",
        "\n",
        "for nullValues in df.columns:\n",
        "    if df[nullValues].isnull().any():\n",
        "\n",
        "        print(nullValues + \":\", df[nullValues].isnull().sum())"
      ],
      "metadata": {
        "id": "4H3-HE5-aagi"
      },
      "execution_count": null,
      "outputs": []
    },
    {
      "cell_type": "code",
      "source": [
        "# Removing \"null\" values\n",
        "\n",
        "df.dropna(axis =0 , inplace = True)"
      ],
      "metadata": {
        "id": "HCBXhY85vP9v"
      },
      "execution_count": 74,
      "outputs": []
    },
    {
      "cell_type": "code",
      "source": [
        "# Descriptive statistical summary\n",
        "\n",
        "df.describe().T"
      ],
      "metadata": {
        "id": "zoGNGwX49f5C"
      },
      "execution_count": null,
      "outputs": []
    },
    {
      "cell_type": "code",
      "source": [
        "df.describe(include = \"object\").T"
      ],
      "metadata": {
        "id": "kzkqXkdr95g0"
      },
      "execution_count": null,
      "outputs": []
    },
    {
      "cell_type": "markdown",
      "source": [
        "# **URBAN HOTEL Vs RESORT**"
      ],
      "metadata": {
        "id": "pr-pQs8sschU"
      }
    },
    {
      "cell_type": "code",
      "source": [
        "# Most reserved type\n",
        "\n",
        "Text = ['Urban Hotel','Resort']\n",
        "\n",
        "plt.pie(df[\"hotel\"].value_counts(), labels=Text,autopct = \"%0.01f%%\")\n",
        "plt.title(\"Booking Percentage\")\n",
        "\n",
        "plt.show()"
      ],
      "metadata": {
        "id": "uk9hOtTlgisj"
      },
      "execution_count": null,
      "outputs": []
    },
    {
      "cell_type": "code",
      "source": [
        "# Comparison of canceled and non-cancelled bookings\n",
        "\n",
        "## (1) canceled\n",
        "## (0) non-cancelled\n",
        "\n",
        "sns.countplot(data = df, x = 'is_canceled', hue = 'hotel')\n",
        "plt.title(\"Comparison of canceled and non-cancelled bookings\")"
      ],
      "metadata": {
        "id": "PiwMyPTro4N2"
      },
      "execution_count": null,
      "outputs": []
    },
    {
      "cell_type": "code",
      "source": [
        "# Annual evolution of bookings\n",
        "\n",
        "# Only 2016 has all the months of the year for analysis\n",
        "\n",
        "sns.countplot(data = df, x = 'arrival_date_year', hue = 'hotel')\n",
        "plt.title(\"Annual evolution of bookings\")"
      ],
      "metadata": {
        "id": "9OOJuW6Nu7G-"
      },
      "execution_count": null,
      "outputs": []
    },
    {
      "cell_type": "markdown",
      "source": [
        "# **CUSTOMERS ORIGIN**"
      ],
      "metadata": {
        "id": "bIqmBkF6jcaE"
      }
    },
    {
      "cell_type": "code",
      "source": [
        "# List a ranking of the countries that generate the most customers for hotels\n",
        "\n",
        "costumersCountry = df[df['is_canceled'] == 0]['country'].value_counts().reset_index()\n",
        "\n",
        "costumersCountry.columns = ['Country','Costumers']\n",
        "\n",
        "costumersCountry"
      ],
      "metadata": {
        "id": "dq9OZrpyi4Lu"
      },
      "execution_count": null,
      "outputs": []
    },
    {
      "cell_type": "markdown",
      "source": [
        "# **HIGH TIMES OF THE YEAR**"
      ],
      "metadata": {
        "id": "YZ8mhmIJnRav"
      }
    },
    {
      "cell_type": "code",
      "source": [
        "data_resort = df[(df[\"hotel\"] == \"Resort Hotel\") & (df[\"is_canceled\"] == 0)]\n",
        "data_city = df[(df[\"hotel\"] == \"City Hotel\") & (df[\"is_canceled\"] == 0)]"
      ],
      "metadata": {
        "id": "ptLv7PRGq6pg"
      },
      "execution_count": 86,
      "outputs": []
    },
    {
      "cell_type": "code",
      "source": [
        "resort_hotel=data_resort.groupby(['arrival_date_month'])['adr'].mean().reset_index()\n",
        "resort_hotel"
      ],
      "metadata": {
        "id": "asifAVuiqnN0"
      },
      "execution_count": null,
      "outputs": []
    },
    {
      "cell_type": "code",
      "source": [
        "city_hotel=data_city.groupby(['arrival_date_month'])['adr'].mean().reset_index()\n",
        "city_hotel"
      ],
      "metadata": {
        "id": "nUDCibd-rY78"
      },
      "execution_count": null,
      "outputs": []
    },
    {
      "cell_type": "code",
      "source": [
        "final=resort_hotel.merge(city_hotel,on = 'arrival_date_month')\n",
        "final.columns=['month', 'price_for_resort', 'price_for_city_hotel']\n",
        "\n",
        "final"
      ],
      "metadata": {
        "id": "JebuUabwp98n"
      },
      "execution_count": null,
      "outputs": []
    },
    {
      "cell_type": "code",
      "source": [
        "def sort_month(df, column_name):\n",
        "    return sd.Sort_Dataframeby_Month(df, column_name)"
      ],
      "metadata": {
        "id": "x4ZwSXPRNVxw"
      },
      "execution_count": 91,
      "outputs": []
    },
    {
      "cell_type": "code",
      "source": [
        "final = sort_month(final,'month')\n",
        "final"
      ],
      "metadata": {
        "id": "cJlJcMh-ryL5"
      },
      "execution_count": null,
      "outputs": []
    },
    {
      "cell_type": "code",
      "source": [
        "sns.lineplot(x ='month', y= 'price_for_resort', data=final, label = 'Resort Hotel')\n",
        "sns.lineplot(x = 'month', y = 'price_for_city_hotel',data=final, label= 'City Hotel')\n",
        "\n",
        "plt.xticks(rotation = 45)\n",
        "plt.legend(ncol = 1, loc = \"best\", frameon = False);"
      ],
      "metadata": {
        "id": "ExjWqJI7t4Ir"
      },
      "execution_count": null,
      "outputs": []
    },
    {
      "cell_type": "code",
      "source": [
        "data = sort_month(df, 'arrival_date_month')\n",
        "\n",
        "sns.lineplot(data = df, x = \"arrival_date_month\", y = \"is_canceled\", hue = \"hotel\")\n",
        "plt.title(\"Average cancellation per month\")\n",
        "plt.xticks(rotation = 45)\n",
        "plt.legend(ncol = 1, loc = \"best\", frameon = False);"
      ],
      "metadata": {
        "id": "HvEChaYPD_7R"
      },
      "execution_count": null,
      "outputs": []
    },
    {
      "cell_type": "code",
      "source": [
        "# Busiest months in hotels\n",
        "\n",
        "mesesData = df.groupby(['arrival_date_month','hotel']).size()\n",
        "mesesData = mesesData.unstack()\n",
        "\n",
        "mesesData.plot(kind = 'line')"
      ],
      "metadata": {
        "id": "U-XkRa2LnUWc"
      },
      "execution_count": null,
      "outputs": []
    },
    {
      "cell_type": "code",
      "source": [
        "# lead_time: Number of days elapsed between the booking entry date and the check-out date\n",
        "\n",
        "lead_cancel=df.groupby(['lead_time','hotel']).agg( reservations = ('lead_time', 'size'),\n",
        "                                                     cancelado_mean = ('is_canceled', 'mean')).reset_index()"
      ],
      "metadata": {
        "id": "x9PGY8OSZ64v"
      },
      "execution_count": 99,
      "outputs": []
    },
    {
      "cell_type": "code",
      "source": [
        "plt.title(\"Average bookings per check-out period\")\n",
        "\n",
        "sns.regplot(data=lead_cancel.loc[lead_cancel.hotel == 'City Hotel'], x = 'lead_time', y = 'cancelado_mean', label = 'City Hotel')\n",
        "sns.regplot(data=lead_cancel.loc[lead_cancel.hotel == 'Resort Hotel'], x = 'lead_time', y = 'cancelado_mean', label = 'Resort Hotel')\n",
        "\n",
        "plt.legend(ncol=1, loc=\"upper right\", frameon = False);"
      ],
      "metadata": {
        "id": "Q8CIUDpCaIg2"
      },
      "execution_count": null,
      "outputs": []
    },
    {
      "cell_type": "markdown",
      "source": [
        "# **CAUSES AND RELATIONS**"
      ],
      "metadata": {
        "id": "KIjrcjctrabU"
      }
    },
    {
      "cell_type": "code",
      "source": [
        "# Heatmap correlation:\n",
        "\n",
        "# - arrival_date_week_number and arrival_date_year have a negative correlation of -0.54.\n",
        "# - stays_in_weekend_nights and stays_in_week_nights have a positive correlation of 0.49.\n",
        "# - is_repeated_guest and previous_bookings_not_canceled have a positive correlation of 0.42.\n",
        "\n",
        "plt.figure(figsize = (16, 8))\n",
        "\n",
        "rel = df.corr()\n",
        "\n",
        "sns.heatmap(rel, cmap = \"coolwarm\", annot = True)\n",
        "\n",
        "rel"
      ],
      "metadata": {
        "id": "XTaHbs6SrePS"
      },
      "execution_count": null,
      "outputs": []
    }
  ]
}